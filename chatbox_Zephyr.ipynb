{
  "nbformat": 4,
  "nbformat_minor": 0,
  "metadata": {
    "colab": {
      "provenance": [],
      "machine_shape": "hm",
      "gpuType": "A100",
      "authorship_tag": "ABX9TyNfXges5d8VdTaWtMrOdmSq",
      "include_colab_link": true
    },
    "kernelspec": {
      "name": "python3",
      "display_name": "Python 3"
    },
    "language_info": {
      "name": "python"
    },
    "accelerator": "GPU"
  },
  "cells": [
    {
      "cell_type": "markdown",
      "metadata": {
        "id": "view-in-github",
        "colab_type": "text"
      },
      "source": [
        "<a href=\"https://colab.research.google.com/github/KOFIYEB/Chatbox_Zephyr7B/blob/main/chatbox_Zephyr.ipynb\" target=\"_parent\"><img src=\"https://colab.research.google.com/assets/colab-badge.svg\" alt=\"Open In Colab\"/></a>"
      ]
    },
    {
      "cell_type": "markdown",
      "source": [
        "# **Chatbox with Zephyr 7B**\n",
        "\n",
        "---\n",
        "\n"
      ],
      "metadata": {
        "id": "wLgU__PsfHva"
      }
    },
    {
      "cell_type": "markdown",
      "source": [
        "We will develop a chatbot using **Zephyr 7B**, a well-regarded conversational model that has been enhanced through fine-tuning with Mistral 7B. Crafted by the Hugging Face H4 team, Zephyr 7B Beta has demonstrated superior performance compared to GPT-3.5, LLama 2 70B, and other models in the 7B size category, as evidenced by the Alpaca Leaderboard rankings. Additionally, Zephyr 7B offers the advantage of being significantly more compact, requiring only 4% of the storage space needed for GPT-3.5."
      ],
      "metadata": {
        "id": "oDxdhdwbfSlv"
      }
    },
    {
      "cell_type": "markdown",
      "source": [
        "# **Load Packages**"
      ],
      "metadata": {
        "id": "sYe7FrmogwSl"
      }
    },
    {
      "cell_type": "code",
      "execution_count": null,
      "metadata": {
        "id": "TpF2Hc0e7OHw"
      },
      "outputs": [],
      "source": [
        "# You only need to run this once, even if you re-start the kernel or machine\n",
        "# Remove the -q to print install output\n",
        "!pip install -q -U git+https://github.com/huggingface/transformers.git\n",
        "!pip install -q -U accelerate jupyter ipywidgets"
      ]
    },
    {
      "cell_type": "markdown",
      "source": [
        "# **Load Model**"
      ],
      "metadata": {
        "id": "Wv4zVP3JhGbF"
      }
    },
    {
      "cell_type": "markdown",
      "source": [
        "In this section, we initialize the model. You're welcome to substitute it with any conversational or instructional model from Hugging Face, ensuring that you adjust the \"roles\" accordingly as outlined below. However, this model is for now highly recommended."
      ],
      "metadata": {
        "id": "DoYTQmR2hMSK"
      }
    },
    {
      "cell_type": "code",
      "source": [
        "models_dict = {\n",
        "    \"Zephyr 7B Alpha\": \"HuggingFaceH4/zephyr-7b-alpha\",\n",
        "    \"Zephyr 7B Beta\": \"HuggingFaceH4/zephyr-7b-beta\",\n",
        "    # You can add more chat/instruct models here\n",
        "}\n",
        "\n",
        "model_id = models_dict[\"Zephyr 7B Beta\"]"
      ],
      "metadata": {
        "id": "0Q9nSO3l7v26"
      },
      "execution_count": 2,
      "outputs": []
    },
    {
      "cell_type": "code",
      "source": [
        "import torch\n",
        "from transformers import pipeline\n",
        "\n",
        "# Running this may take a minute\n",
        "pipe = pipeline(\"text-generation\", model=model_id, torch_dtype=torch.bfloat16, device_map=\"auto\")"
      ],
      "metadata": {
        "id": "M8KOlOXw70-C"
      },
      "execution_count": null,
      "outputs": []
    },
    {
      "cell_type": "markdown",
      "source": [
        "# **Define the role**"
      ],
      "metadata": {
        "id": "Gl5in3i8htJb"
      }
    },
    {
      "cell_type": "markdown",
      "source": [
        "specify the role you want the chatbot to adopt. For this example, I'll configure it to function as a sports analyst."
      ],
      "metadata": {
        "id": "3OQsemPbh0Qp"
      }
    },
    {
      "cell_type": "code",
      "source": [
        "job_description = \"You are a sport analyst expert. Please answer my questions.\""
      ],
      "metadata": {
        "id": "K2SBgQC_8G16"
      },
      "execution_count": 4,
      "outputs": []
    },
    {
      "cell_type": "markdown",
      "source": [
        "Here we execute the model! To conclude the question-answering session, type \"stop\" or \"exit\". Feel free to disregard the UserWarning about changes to the pre-trained model configuration."
      ],
      "metadata": {
        "id": "27fjsHrpiqqT"
      }
    },
    {
      "cell_type": "code",
      "source": [
        "messages = [\n",
        "    {\n",
        "        \"role\": \"system\",\n",
        "        \"content\": job_description,\n",
        "    },\n",
        "]\n",
        "\n",
        "exit_terms = [\"stop\", \"exit\"]\n",
        "\n",
        "while True:\n",
        "    question = input(\"\\nQuestion:\")\n",
        "    if question.lower() in exit_terms:\n",
        "        break\n",
        "    messages.append({\"role\": \"user\", \"content\": question})\n",
        "    prompt = pipe.tokenizer.apply_chat_template(messages, tokenize=False, add_generation_prompt=True)\n",
        "    outputs = pipe(prompt, max_new_tokens=512, do_sample=True, temperature=0.7, top_k=50, top_p=0.95)\n",
        "    output = outputs[0][\"generated_text\"]\n",
        "    messages.append({\"role\": \"assistant\", \"content\": output})\n",
        "    response_start = output.rfind('<|assistant|>')\n",
        "    print(output[response_start + len('<|assistant|>'):])"
      ],
      "metadata": {
        "colab": {
          "base_uri": "https://localhost:8080/"
        },
        "id": "apMCHExl8U07",
        "outputId": "898e939d-8262-4a4b-fc00-05d03c47b073"
      },
      "execution_count": 7,
      "outputs": [
        {
          "name": "stdout",
          "output_type": "stream",
          "text": [
            "\n",
            "Question: Rank the top 10 basketball players of all time\n"
          ]
        },
        {
          "output_type": "stream",
          "name": "stderr",
          "text": [
            "Setting `pad_token_id` to `eos_token_id`:2 for open-end generation.\n"
          ]
        },
        {
          "name": "stdout",
          "output_type": "stream",
          "text": [
            "\n",
            "1. Michael Jordan - Six-time NBA champion, five-time MVP, and considered by many as the greatest basketball player of all time.\n",
            "\n",
            "2. LeBron James - Four-time NBA champion, four-time MVP, and widely regarded as one of the most talented and versatile players in NBA history.\n",
            "\n",
            "3. Bill Russell - Eleven-time NBA champion and five-time MVP, widely recognized as one of the best defenders and rebounders in NBA history.\n",
            "\n",
            "4. Kareem Abdul-Jabbar - Six-time NBA champion and six-time MVP, holds the NBA's all-time scoring record and is widely regarded as one of the greatest centers of all time.\n",
            "\n",
            "5. Wilt Chamberlain - Three-time NBA champion, four-time MVP, and holds numerous NBA records, including most points in a single game.\n",
            "\n",
            "6. Magic Johnson - Five-time NBA champion and three-time MVP, widely regarded as one of the most talented and versatile players in NBA history.\n",
            "\n",
            "7. Larry Bird - Three-time NBA champion and three-time MVP, widely regarded as one of the best shooters and all-around players in NBA history.\n",
            "\n",
            "8. Oscar Robertson - One-time NBA champion and one-time MVP, holds numerous NBA records, including most triple-doubles in a single season.\n",
            "\n",
            "9. Jerry West - Never won an NBA championship, but widely regarded as one of the greatest players in NBA history due to his incredible skill and leadership.\n",
            "\n",
            "10. Hakeem Olajuwon - Two-time NBA champion and one-time MVP, widely regarded as one of the greatest centers in NBA history and the creator of the \"Dream Shake\" move.\n",
            "\n",
            "Question: What does Lebron James have to do to surpass Micheal Jordan as #1?\n"
          ]
        },
        {
          "output_type": "stream",
          "name": "stderr",
          "text": [
            "Setting `pad_token_id` to `eos_token_id`:2 for open-end generation.\n"
          ]
        },
        {
          "name": "stdout",
          "output_type": "stream",
          "text": [
            "\n",
            "It's a subjective question, as the title of \"greatest basketball player of all time\" is a matter of personal opinion. However, here are some factors that could potentially help Lebron James surpass Michael Jordan:\n",
            "\n",
            "1. Win more NBA championships: Jordan won six NBA championships, and while James has four, he's still actively playing and has a chance to add to his total.\n",
            "\n",
            "2. Win more NBA Finals MVP awards: Jordan won the Finals MVP award six times, while James has won it four times. More Finals MVP awards could help James' case for being the best.\n",
            "\n",
            "3. Lead his team to more playoff series victories: Jordan led his teams to an impressive 63 playoff series victories, while James has 65. More playoff series victories could further solidify James' legacy.\n",
            "\n",
            "4. Set more NBA records: Jordan holds numerous NBA records, but James has already broken some of them and continues to break new ones. Setting more records could help James surpass Jordan.\n",
            "\n",
            "5. Achieve more individual accolades: Jordan won five NBA MVP awards, while James has won four. James could potentially win more MVP awards, All-Star selections, or other individual honors to further distinguish himself from Jordan.\n",
            "\n",
            "Ultimately, it's a close and debatable question, and it's unlikely that any player will ever surpass Jordan's impact and influence on the sport. However, James is certainly one of the greatest players of all time and has a chance to make his case as the best.\n",
            "\n",
            "Question: Which current players can make it into the top 10 All time list ?\n"
          ]
        },
        {
          "output_type": "stream",
          "name": "stderr",
          "text": [
            "Setting `pad_token_id` to `eos_token_id`:2 for open-end generation.\n"
          ]
        },
        {
          "name": "stdout",
          "output_type": "stream",
          "text": [
            "\n",
            "It's difficult to predict which current players will eventually make it into the top 10 all-time list as it's a subjective ranking that's based on a player's entire career, not just their current form. However, here are a few current players who have the potential to make a strong case for being among the all-time greats:\n",
            "\n",
            "1. LeBron James - As I mentioned earlier, James is already in the top 10 list, and he's still in the prime of his career. If he continues to win championships, individual awards, and break records, there's no doubt that he'll climb higher on the list.\n",
            "\n",
            "2. Stephen Curry - Curry has already won two NBA MVP awards and led his team to a championship in 2015. He's also one of the most prolific scorers in NBA history and has set numerous records for three-point shooting. If he can lead his team to more championships and continue to dominate the league, he could potentially crack the top 10.\n",
            "\n",
            "3. Kevin Durant - Durant has won two NBA championships and has been named Finals MVP twice. He's also a perennial All-Star and has won an NBA MVP award. If he can continue to lead his team to championships and maintain his high level of play, he could potentially make a strong case for being among the all-time greats.\n",
            "\n",
            "4. Giannis Antetokounmpo - Antetokounmpo has already won an NBA MVP award and led his team to the NBA Finals in 2021. He's also a versatile and dominant player who can score, rebound, and defend at a high level. If he can lead his team to more championships and continue to improve his game, he could potentially crack the top 10.\n",
            "\n",
            "Ultimately, it's impossible to predict which current players will eventually make it into the top 10 all-time list, as there are many factors that go into determining a player's legacy. However, these players are certainly among the most talented and impactful in the league today and have a chance to make a strong case for being among the all-time greats.\n",
            "\n",
            "Question:stop\n"
          ]
        }
      ]
    },
    {
      "cell_type": "markdown",
      "source": [
        "**It worked absolutely fine, you can also create your version of ChatGPT 😲**"
      ],
      "metadata": {
        "id": "5yLwif7QitTb"
      }
    }
  ]
}